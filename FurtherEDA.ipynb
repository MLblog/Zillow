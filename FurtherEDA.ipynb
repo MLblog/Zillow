{
 "cells": [
  {
   "cell_type": "markdown",
   "metadata": {},
   "source": [
    "<h1> This is a further \"experimental\" EDA analysis of the \"merged.csv\" file. </h1>\n",
    "\n",
    "Before running into conclusions it would be nice to mess with the data a bit more and see how they respond with each other. \n",
    "\n",
    "First, let's load the file:"
   ]
  },
  {
   "cell_type": "code",
   "execution_count": null,
   "metadata": {
    "collapsed": true
   },
   "outputs": [],
   "source": [
    "import pandas as pd\n",
    "import numpy as np\n",
    "import seaborn as sns\n",
    "import matplotlib.pyplot as plt\n",
    "\n",
    "import warnings\n",
    "warnings.filterwarnings('ignore') # Bad practice my ass\n",
    "\n",
    "merged = pd.read_csv('data/merged.csv')"
   ]
  },
  {
   "cell_type": "markdown",
   "metadata": {},
   "source": [
    "<h2> sort it by ascending order regarding \"logerror\" feature </h2>\n"
   ]
  },
  {
   "cell_type": "code",
   "execution_count": null,
   "metadata": {},
   "outputs": [],
   "source": [
    "# sort merged by ascending \"logerror\"\n",
    "merged.sort_values(by='logerror', inplace=True)"
   ]
  },
  {
   "cell_type": "markdown",
   "metadata": {},
   "source": [
    "<h2> And define a funtion that plots a simple scatter between a feature and \"logerror\"</h2>\n",
    "\n",
    "With a first look we can see that in the relation `\"area_live_finished - logerror\"`, as the \"area_live_finished\" increases alot then the logerror converges to 0"
   ]
  },
  {
   "cell_type": "code",
   "execution_count": null,
   "metadata": {},
   "outputs": [],
   "source": [
    "def plot_feature_logerror(feature, df=merged):\n",
    "    \"\"\"This function plots a scatter x-y style with the feature in xAxis and logerror in yAxis.\"\"\"\n",
    "    def is_numerical():\n",
    "        return df[feature].dtype in ['float64', 'int64']\n",
    "    def is_label():\n",
    "        return feature in ['logerror', 'ID']\n",
    "    def is_constant():\n",
    "        return df[feature].max() == df[feature].min()\n",
    "    \n",
    "    if not (is_numerical() and not is_label() and not is_constant()):\n",
    "        return None\n",
    "    plt.scatter(df[feature].values, df[\"logerror\"].values)\n",
    "    plt.xlabel(feature); plt.ylabel(\"logerror\"); plt.title(feature + \" - logerror\")\n",
    "    plt.show()\n",
    "\n",
    "# The lines bellow plot all features that can be plotted.   \n",
    "[plot_feature_logerror(feature) for feature in merged.columns]"
   ]
  },
  {
   "cell_type": "markdown",
   "metadata": {},
   "source": [
    "<h2> Find all non numerical columns of merged and convert them to numerical </h2>\n"
   ]
  },
  {
   "cell_type": "code",
   "execution_count": null,
   "metadata": {},
   "outputs": [],
   "source": [
    "def is_numerical(feature, df=merged):\n",
    "        if df[feature].dtype in ['float64', 'int64']:\n",
    "            return True\n",
    "        else:\n",
    "            return False\n",
    "nonNumericalFeatures = [col for col in merged.columns if is_numerical(col) == False]\n",
    "print (nonNumericalFeatures)"
   ]
  },
  {
   "cell_type": "markdown",
   "metadata": {},
   "source": [
    "<h2> So we find out the non numerical values! </h2>\n",
    "\n",
    "These are: \n",
    "['flag_tub', 'zoning_landuse_county', 'zoning_property', 'flag_fireplace', 'tax_delinquency', 'transactiondate']\n",
    "Let's investigate more what these values are:<br />\n",
    "<b>flag_tub</b>              --> only \"True\" and NaN. <br />\n",
    "<b>zoning_landuse_county</b> --> values like: 0100, 010C, 96, ...<br />\n",
    "<b>zoning_property</b>       --> values like: 1NR1*, AH RM-CD*, WVRPD4OOOO, ...<br />\n",
    "<b>flag_fireplace</b>        --> only \"True\" and NaN.<br />\n",
    "<b>tax_delinquency</b>       --> only \"Y\" and NaN<br />\n",
    "<b>transactiondate</b>       --> date from \"2016-01-02\" to \"2016-12-30\" <br />\n",
    "\n",
    "<h2> So... </h2>\n",
    "These features need a special treatment. We could just change them with a correspondence of integers (e.g. True --> 1 and NaN --> 0, or 1NR1* --> 1, WVRPD4OOOO --> 2 etc...) using a <b>dict</b>. \n",
    "Although, this may not seem alright because the data \"won't make sense\". For example, the mean value of these features is an irrelevant number (imagine that you have values ranging from 0 to 10 and the mean value is 5.5???). Therefore, a different approach may occur"
   ]
  }
 ],
 "metadata": {
  "kernelspec": {
   "display_name": "Python 3",
   "language": "python",
   "name": "python3"
  },
  "language_info": {
   "codemirror_mode": {
    "name": "ipython",
    "version": 3
   },
   "file_extension": ".py",
   "mimetype": "text/x-python",
   "name": "python",
   "nbconvert_exporter": "python",
   "pygments_lexer": "ipython3",
   "version": "3.6.1"
  }
 },
 "nbformat": 4,
 "nbformat_minor": 2
}

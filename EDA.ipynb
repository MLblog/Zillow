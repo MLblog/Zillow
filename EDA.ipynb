{
 "cells": [
  {
   "cell_type": "markdown",
   "metadata": {
    "collapsed": false
   },
   "source": [
    "<h1> Eploring the Zillow prize dataset </h1>\n",
    "\n",
    "In this notebook we are going to explore the provided datasets in order to better understand the problem at hand. At the same time we will try to arrive at preliminary conclusions on the distribution of our data in order to derive useful insights for the modelling phase.\n",
    "\n",
    "Lets start by loading the training dataset for inspection:"
   ]
  },
  {
   "cell_type": "code",
   "execution_count": null,
   "metadata": {
    "collapsed": true
   },
   "outputs": [],
   "source": [
    "import pandas as pd\n",
    "\n",
    "train_features = pd.read_csv('data/train_features.csv')"
   ]
  },
  {
   "cell_type": "markdown",
   "metadata": {},
   "source": [
    "<h3> Renaming the columns </h3>\n",
    "\n",
    "It is obvious that these column names are hard to interpret, we will therefore use a custom mapping. Since\n",
    "this falls more into the data layer than the analysis we will read the mapping from a file. The expected format\n",
    "is a key value pair per line split by the \"=\" symbol. \n",
    "\n",
    "For example: \n",
    "\n",
    "`newColumnName = oldColumnName`"
   ]
  },
  {
   "cell_type": "code",
   "execution_count": null,
   "metadata": {
    "collapsed": false
   },
   "outputs": [],
   "source": [
    "col_mapping = pd.read_csv('data/feature_names', sep =\"=\", header=None).applymap(str.strip)\n",
    "mapping_dict = dict(zip(col_mapping[1], col_mapping[0]))\n",
    "train_features.rename(columns = mapping_dict, inplace=True)\n",
    "\n",
    "(num_records, num_features) = train_features.shape\n",
    "print('There are {0} properties recorded and {1} features in total'.format(*train_features.shape))"
   ]
  },
  {
   "cell_type": "markdown",
   "metadata": {},
   "source": [
    "<h3> Handling sparse columns </h3>\n",
    "\n",
    "There are quite a lot of features, however some of them have a lot of missing values. Lets try to quantify that statement"
   ]
  },
  {
   "cell_type": "code",
   "execution_count": null,
   "metadata": {
    "collapsed": false
   },
   "outputs": [],
   "source": [
    "nan_count = train_features.isnull().mean()\n",
    "nan_count[nan_count > 0.95].sort_values(ascending=False)"
   ]
  },
  {
   "cell_type": "markdown",
   "metadata": {},
   "source": [
    "<h4> More than 1/3 of our features are sparse! </h4>\n",
    "\n",
    "Several of these sparse features could be important such as the tax delinquency. In others however a missing value can be easily imputed. For example missing values for the pool type and area probably mean that the property does not have a pool installed \n",
    "\n",
    "<i>These missing values may or may not pose a significant problem at the modelling phase</i>"
   ]
  },
  {
   "cell_type": "markdown",
   "metadata": {
    "collapsed": true
   },
   "source": [
    "<h3> Checking the target variable </h3>\n",
    "\n",
    "Lets now take a look at our target variable: <b> The log Error </b>"
   ]
  },
  {
   "cell_type": "code",
   "execution_count": null,
   "metadata": {
    "collapsed": false
   },
   "outputs": [],
   "source": [
    "labels = pd.read_csv('data/train_label.csv')\n",
    "\n",
    "# Rename is needed to facilitate a left join\n",
    "labels.rename(columns={'parcelid': 'ID'}, inplace=True)"
   ]
  },
  {
   "cell_type": "markdown",
   "metadata": {},
   "source": [
    "<h3> A lot of missing labels </h3>\n",
    "\n",
    "Well it seems that most of the properties found in our feature dataset do not have a label associated with them.\n",
    "This could probably come from the fact that a prediction error can only be computed when the real selling price is recorded, that is when the property is actually sold. Of course not every property was sold within the time limits of the data collection. This will significantly reduce our training set since we will only keep records where the label is known for the modelling phase."
   ]
  },
  {
   "cell_type": "code",
   "execution_count": null,
   "metadata": {
    "collapsed": true
   },
   "outputs": [],
   "source": [
    "merged = train_features.merge(labels, on='ID')"
   ]
  }
 ],
 "metadata": {
  "kernelspec": {
   "display_name": "Python 3",
   "language": "python",
   "name": "python3"
  },
  "language_info": {
   "codemirror_mode": {
    "name": "ipython",
    "version": 3
   },
   "file_extension": ".py",
   "mimetype": "text/x-python",
   "name": "python",
   "nbconvert_exporter": "python",
   "pygments_lexer": "ipython3",
   "version": "3.6.0"
  }
 },
 "nbformat": 4,
 "nbformat_minor": 2
}

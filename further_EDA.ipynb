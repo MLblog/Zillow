{
 "cells": [
  {
   "cell_type": "markdown",
   "metadata": {},
   "source": [
    "<h1> This is a further \"experimental\" EDA analysis of the \"merged.csv\" file. </h1>\n",
    "\n",
    "Before running into conclusions it would be nice to mess with the data a bit more and see how they respond with each other. \n",
    "\n",
    "First, let's load the file:"
   ]
  },
  {
   "cell_type": "code",
   "execution_count": null,
   "metadata": {
    "collapsed": true
   },
   "outputs": [],
   "source": [
    "import pandas as pd\n",
    "import numpy as np\n",
    "import seaborn as sns\n",
    "import matplotlib.pyplot as plt\n",
    "\n",
    "import warnings\n",
    "warnings.filterwarnings('ignore') # Bad practice my ass\n",
    "\n",
    "merged = pd.read_csv('data/merged.csv')"
   ]
  },
  {
   "cell_type": "markdown",
   "metadata": {},
   "source": [
    "<h2> Define a function that plots a simple scatter between a feature and \"logerror\"</h2>\n",
    "\n",
    "With a first look we can see that in the relation `\"area_live_finished - logerror\"`, as the \"area_live_finished\" increases alot then the logerror converges to 0"
   ]
  },
  {
   "cell_type": "code",
   "execution_count": null,
   "metadata": {},
   "outputs": [],
   "source": [
    "def plot_feature_logerror(feature, df=merged):\n",
    "    \"\"\"This function plots a scatter x-y style with the feature in xAxis and logerror in yAxis.\"\"\"\n",
    "    def is_numerical():\n",
    "        return df[feature].dtype in ['float64', 'int64']\n",
    "    def is_label():\n",
    "        return feature in ['logerror', 'ID']\n",
    "    def is_constant():\n",
    "        return df[feature].max() == df[feature].min()\n",
    "    \n",
    "    if not (is_numerical() and not is_label() and not is_constant()):\n",
    "        return\n",
    "    plt.scatter(df[feature].values, df[\"logerror\"].values)\n",
    "    plt.xlabel(feature); plt.ylabel(\"logerror\"); plt.title(feature + \" - logerror\")\n",
    "    plt.show()\n",
    "    \n",
    "\n",
    "# The line bellow plot all features that can be plotted.   \n",
    "[plot_feature_logerror(feature) for feature in merged.columns]"
   ]
  },
  {
   "cell_type": "markdown",
   "metadata": {},
   "source": [
    "<h2> Find all non numerical columns </h2>\n"
   ]
  },
  {
   "cell_type": "code",
   "execution_count": null,
   "metadata": {},
   "outputs": [],
   "source": [
    "def is_numerical(feature, df=merged):\n",
    "    return df[feature].dtype in ['float64', 'int64']\n",
    "        \n",
    "categorical_features = [col for col in merged.columns if not is_numerical(col)]\n",
    "categorical_features"
   ]
  },
  {
   "cell_type": "markdown",
   "metadata": {},
   "source": [
    "<h2> So we find out the non numerical values! </h2>\n",
    "\n",
    "These are: \n",
    "['flag_tub', 'zoning_landuse_county', 'zoning_property', 'flag_fireplace', 'tax_delinquency', 'transactiondate']\n",
    "Let's investigate more what these values are:<br />\n",
    "<b>flag_tub</b>              --> only \"True\" and NaN. <br />\n",
    "<b>zoning_landuse_county</b> --> values like: 0100, 010C, 96, ...<br />\n",
    "<b>zoning_property</b>       --> values like: 1NR1*, AH RM-CD*, WVRPD4OOOO, ...<br />\n",
    "<b>flag_fireplace</b>        --> only \"True\" and NaN.<br />\n",
    "<b>tax_delinquency</b>       --> only \"Y\" and NaN<br />\n",
    "<b>transactiondate</b>       --> date from \"2016-01-02\" to \"2016-12-30\" <br />\n",
    "\n",
    "<h2> So... </h2>\n",
    "These features need a special treatment. We could just change them with a correspondence of integers (e.g. True --> 1 and NaN --> 0, or 1NR1* --> 1, WVRPD4OOOO --> 2 etc...) using a <b>dict</b>. \n",
    "Although, this may not seem alright because the data \"won't make sense\". For example, the mean value of these features is an irrelevant number (imagine that you have values ranging from 0 to 10 and the mean value is 5.5???). Therefore, a different approach may occur"
   ]
  },
  {
   "cell_type": "markdown",
   "metadata": {},
   "source": [
    "<h2> Treating binary features </h2>\n",
    "A quick inspection shows that many of these features are essentially Binary. However different notations \n",
    "are used for True and False values. Lets unify the notation and study their distribution. Lastly,\n",
    "we would like to include these features in an ML model which will probably be restricted to numerical values.\n",
    "We should therefore make the transformation"
   ]
  },
  {
   "cell_type": "code",
   "execution_count": null,
   "metadata": {
    "collapsed": true
   },
   "outputs": [],
   "source": [
    "def treat_binary(feature, oldTrue = True, oldFalse = None):\n",
    "    \"\"\" \n",
    "    This function will display and plot statistics regarding any Binary feature of the merged table.\n",
    "    It will also transform various binary notation to a [0, 1] representation\n",
    "    \"\"\"\n",
    "    merged[feature].replace(to_replace=oldTrue ,value=1, inplace=True)\n",
    "    if not oldFalse:\n",
    "        merged[feature].fillna(value=0, inplace=True)\n",
    "    else:\n",
    "        merged[feature].replace(to_replace=oldFalse ,value=0, inplace=True)\n",
    "    \n",
    "    true_part = merged[merged[feature] == 1][\"logerror\"]\n",
    "    false_part = merged[merged[feature] == 0][\"logerror\"]\n",
    "    true_ratio = len(true_part) * 100 / len(merged)\n",
    "    false_ratio = 100 - true_ratio\n",
    "    \n",
    "    mean_true, mean_false = true_part.mean(), false_part.mean()\n",
    "    std_true, std_false = true_part.std(), false_part.std()\n",
    "    \n",
    "    def print_stats(value = True):\n",
    "        mean = mean_true if value else mean_false\n",
    "        std = std_true if value else std_false\n",
    "        ratio = true_ratio if value else false_ratio\n",
    "        print(\"For {0} == {1}, the logerror's mean and std are: {2:06.5f} , {3:06.5f}. Total samples ratio {4:04.2f}%\"\n",
    "              .format(feature, value, mean, std, ratio)) \n",
    "    print_stats()\n",
    "    print_stats(False)\n",
    "    plot_feature_logerror(feature)"
   ]
  },
  {
   "cell_type": "markdown",
   "metadata": {},
   "source": [
    "<h2> Analysis for \"flag_tub\" </h2>\n",
    "\n",
    "The valid values for this feature are \"True\" and \"Nan\". These are sufficient to make it a binary feature.\n",
    "\n",
    "From the results we can see that the True values are only the 2.62% of the total samples so it is not a great factor. Nevertheless, it shows that True values have lower logerror mean value (std is higher though). So, we could try to get this data into account to our final model"
   ]
  },
  {
   "cell_type": "code",
   "execution_count": null,
   "metadata": {},
   "outputs": [],
   "source": [
    "treat_binary(\"flag_tub\")"
   ]
  },
  {
   "cell_type": "markdown",
   "metadata": {},
   "source": [
    "<h2> Analysis for \"flag_fireplace\" </h2>\n",
    "\n",
    "Similar actions with \"flag_tub\".\n",
    "Here the True data are 0.25%. Very small factor. We shouldn't take this data into account but we observe the following. If there is a fireplace (True) then the mean value is bigger and the std is smaller. This means that if there is a fireplace we have a bigger logerror and the small std means that this observation is more concrete. But again the True values are only the 0.25% of whole data so the conclusions may be vague."
   ]
  },
  {
   "cell_type": "code",
   "execution_count": null,
   "metadata": {},
   "outputs": [],
   "source": [
    "treat_binary(\"flag_fireplace\")"
   ]
  },
  {
   "cell_type": "markdown",
   "metadata": {},
   "source": [
    "<h2> Analysis for \"tax_delinquency\" </h2>\n",
    "\n",
    "Similar analysis to \"flag_fireplace\".\n",
    "We can observe here that again the value \"Y\" makes logerror more complicated. It increases the mean value and the std which makes the \"guess\" for the correct logerror very difficult. "
   ]
  },
  {
   "cell_type": "code",
   "execution_count": null,
   "metadata": {},
   "outputs": [],
   "source": [
    "treat_binary(\"tax_delinquency\", oldTrue=\"Y\")"
   ]
  },
  {
   "cell_type": "markdown",
   "metadata": {},
   "source": [
    "<h2> Treating non binary features </h2>\n",
    "\n",
    "A quick inspection shows that many of these features are categorial. Having strings or integers as types (like IDs). So we are going to define a function that takes categorial features and corersponds to integer serial numbers."
   ]
  },
  {
   "cell_type": "code",
   "execution_count": null,
   "metadata": {},
   "outputs": [],
   "source": [
    "def treat_categorial(feature, correspond_NaN = True):\n",
    "    \"\"\"\n",
    "    This function will display and plot statistics regarding any Categorial feature of the merged table.\n",
    "    It will convert strings or integers that denote types (like IDs) to a integer serial numbers\n",
    "    [0, 1, 2, ..., length_of_different_categories] representation. The serial numbers will start from 1. The \n",
    "    number 0 is reserved for NaN and the user can convert NaN to 0 or leave them NaN with the flag correspond_NaN.\n",
    "    \"\"\"\n",
    "    # we want to correspond every unique category inside feature to an increment integer.\n",
    "    temp_df = merged[[feature, \"logerror\"]] #create a copy of merged\n",
    "    temp_df.dropna(inplace=True) #drop all NaN\n",
    "\n",
    "    # Get only one instance of every category, ignore duplicates \n",
    "    possible_values = temp_df.where(temp_df[feature].duplicated() == False).dropna()[feature]\n",
    "    # now that we have all possible_values (e.g. 1NR1, AH RM-CD, WVRPD4OOOO,) we want to convert them to integers.\n",
    "    # Starting from 1 to length(possible_values). Don't Use 0 because it is reserved for NaN\n",
    "\n",
    "    merged[feature].replace(to_replace=possible_values.tolist(),\\\n",
    "    value=range(1,possible_values.count()+1), inplace=True)#this works. Very slow execution\n",
    "    \"\"\"\n",
    "    The following code does the same thing as above. They both run very slowly. keep the best of them.\n",
    "    merged[feature].replace(to_replace=\\\n",
    "    {feature: dict(zip(possible_values, range(1,possible_values.count()+1)))}, inplace=True)#this works. Very slow execution\n",
    "    \"\"\"\n",
    "    \n",
    "    # Fill NaN with the value 0 according to correspond_NaN flag\n",
    "    if correspond_NaN:\n",
    "        merged[feature].fillna(value=0, inplace=True)\n",
    "               \n",
    "    plot_feature_logerror(feature)"
   ]
  },
  {
   "cell_type": "markdown",
   "metadata": {},
   "source": [
    "<h2> Analysis for \"zoning_property\" </h2>\n",
    "\n",
    "This feature has a lot of strings (zones) and we want to correspond them with increment integers. The final plot showw that we got legitimate data!!! Enjoy"
   ]
  },
  {
   "cell_type": "code",
   "execution_count": null,
   "metadata": {},
   "outputs": [],
   "source": [
    "treat_categorial(\"zoning_property\")"
   ]
  }
 ],
 "metadata": {
  "kernelspec": {
   "display_name": "Python 3",
   "language": "python",
   "name": "python3"
  },
  "language_info": {
   "codemirror_mode": {
    "name": "ipython",
    "version": 3
   },
   "file_extension": ".py",
   "mimetype": "text/x-python",
   "name": "python",
   "nbconvert_exporter": "python",
   "pygments_lexer": "ipython3",
   "version": "3.6.1"
  }
 },
 "nbformat": 4,
 "nbformat_minor": 2
}

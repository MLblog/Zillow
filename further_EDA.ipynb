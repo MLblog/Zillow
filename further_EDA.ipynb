{
 "cells": [
  {
   "cell_type": "markdown",
   "metadata": {},
   "source": [
    "<h1> This is a further \"experimental\" EDA analysis of the \"merged.csv\" file. </h1>\n",
    "\n",
    "Before running into conclusions it would be nice to mess with the data a bit more and see how they respond with each other. \n",
    "\n",
    "First, let's load the file:"
   ]
  },
  {
   "cell_type": "code",
   "execution_count": null,
   "metadata": {},
   "outputs": [],
   "source": [
    "import pandas as pd\n",
    "import numpy as np\n",
    "import seaborn as sns\n",
    "import matplotlib.pyplot as plt\n",
    "\n",
    "import warnings\n",
    "warnings.filterwarnings('ignore') # Bad practice my ass\n",
    "\n",
    "merged = pd.read_csv('data/merged.csv')"
   ]
  },
  {
   "cell_type": "markdown",
   "metadata": {},
   "source": [
    "<h2> Define a function that plots a simple scatter between a feature and \"logerror\"</h2>\n",
    "\n",
    "With a first look we can see that in the relation `\"area_live_finished - logerror\"`, as the \"area_live_finished\" increases alot then the logerror converges to 0"
   ]
  },
  {
   "cell_type": "code",
   "execution_count": null,
   "metadata": {},
   "outputs": [],
   "source": [
    "def plot_feature_logerror(feature, df=merged):\n",
    "    \"\"\"This function plots a scatter x-y style with the feature in xAxis and logerror in yAxis.\"\"\"\n",
    "    def is_numerical():\n",
    "        return df[feature].dtype in ['float64', 'int64']\n",
    "    def is_label():\n",
    "        return feature in ['logerror', 'ID']\n",
    "    def is_constant():\n",
    "        return df[feature].max() == df[feature].min()\n",
    "    \n",
    "    if not (is_numerical() and not is_label() and not is_constant()):\n",
    "        return\n",
    "    plt.scatter(df[feature].values, df[\"logerror\"].values)\n",
    "    plt.xlabel(feature); plt.ylabel(\"logerror\"); plt.title(feature + \" - logerror\")\n",
    "    plt.show()\n",
    "    \n",
    "\n",
    "# The line bellow plot all features that can be plotted.   \n",
    "[plot_feature_logerror(feature) for feature in merged.columns]"
   ]
  },
  {
   "cell_type": "markdown",
   "metadata": {},
   "source": [
    "<h2> Find all non numerical columns </h2>\n"
   ]
  },
  {
   "cell_type": "code",
   "execution_count": null,
   "metadata": {},
   "outputs": [],
   "source": [
    "def is_numerical(feature, df=merged):\n",
    "    return df[feature].dtype in ['float64', 'int64']\n",
    "        \n",
    "categorical_features = [col for col in merged.columns if not is_numerical(col)]\n",
    "categorical_features"
   ]
  },
  {
   "cell_type": "markdown",
   "metadata": {},
   "source": [
    "<h2> So we find out the non numerical values! </h2>\n",
    "\n",
    "These are: \n",
    "['flag_tub', 'zoning_landuse_county', 'zoning_property', 'flag_fireplace', 'tax_delinquency', 'transactiondate']\n",
    "Let's investigate more what these values are:<br />\n",
    "<b>flag_tub</b>              --> only \"True\" and NaN. <br />\n",
    "<b>zoning_landuse_county</b> --> values like: 0100, 010C, 96, ...<br />\n",
    "<b>zoning_property</b>       --> values like: 1NR1*, AH RM-CD*, WVRPD4OOOO, ...<br />\n",
    "<b>flag_fireplace</b>        --> only \"True\" and NaN.<br />\n",
    "<b>tax_delinquency</b>       --> only \"Y\" and NaN<br />\n",
    "<b>transactiondate</b>       --> date from \"2016-01-02\" to \"2016-12-30\" <br />\n",
    "\n",
    "<h2> So... </h2>\n",
    "These features need a special treatment. We could just change them with a correspondence of integers (e.g. True --> 1 and NaN --> 0, or 1NR1* --> 1, WVRPD4OOOO --> 2 etc...) using a <b>dict</b>. \n",
    "Although, this may not seem alright because the data \"won't make sense\". For example, the mean value of these features is an irrelevant number (imagine that you have values ranging from 0 to 10 and the mean value is 5.5???). Therefore, a different approach may occur"
   ]
  },
  {
   "cell_type": "markdown",
   "metadata": {},
   "source": [
    "<h2> Analysis for \"flag_tub\" </h2>\n",
    "\n",
    "The valid values for this feature are \"True\" and \"Nan\". These are sufficient to make it a binary feature.\n",
    "\n",
    "From the results we can see that the True values are only the 2.62% of the total samples so it is not a great factor. Nevertheless, it shows that True values have lower logerror mean value (std is higher though). So, we could try to get this data into account to our final model"
   ]
  },
  {
   "cell_type": "code",
   "execution_count": null,
   "metadata": {},
   "outputs": [],
   "source": [
    "# Let's investigate on \"flag_tub\". [True, NaN] --> [1, 0]. Warning! Ugly code\n",
    "merged[\"flag_tub\"].replace(to_replace=True ,value=1, inplace=True)\n",
    "\n",
    "# We fill the NaN's here because \"flag_tub\" has only the value True. So me make it binary.\n",
    "# if it had also the Value False then True and False would form the binary data.\n",
    "merged[\"flag_tub\"].fillna(value=0, inplace=True)\n",
    "\n",
    "test_column = merged[['flag_tub','logerror']]\n",
    "total_samples = test_column.count().get(\"logerror\")\n",
    "\n",
    "# mean and std for flag_tub == 1\n",
    "mean = test_column.where(test_column[\"flag_tub\"] > 0).dropna().mean().get(\"logerror\")\n",
    "std = test_column.where(test_column[\"flag_tub\"] > 0).dropna().std().get(\"logerror\")\n",
    "samples = test_column.where(test_column[\"flag_tub\"] > 0).dropna().count().get(\"logerror\")\n",
    "#for the above there must be a more elegant way but this is not the point here\n",
    "print(\"For flag_tub == 'True', the logerror's mean and std are: {0:06.5f} , {1:06.5f}. Total samples ratio {2:04.2f}%\"\\\n",
    "      .format(mean, std, 100.*samples/total_samples))\n",
    "\n",
    "# mean and std for flag_tub == 0\n",
    "mean = test_column.where(test_column[\"flag_tub\"] < 1).dropna().mean().get(\"logerror\")\n",
    "std = test_column.where(test_column[\"flag_tub\"] < 1).dropna().std().get(\"logerror\")\n",
    "samples = test_column.where(test_column[\"flag_tub\"] < 1).dropna().count().get(\"logerror\")\n",
    "#for the above there must be a more elegant way but this is not the point here\n",
    "print(\"For flag_tub == 'Nan', the logerror's mean and std are: {0:06.5f} , {1:06.5f}. Total samples ratio {2:04.2f}%\"\\\n",
    "      .format(mean, std, 100.*samples/total_samples))\n",
    "# Let's plot it\n",
    "plot_feature_logerror(\"flag_tub\")"
   ]
  },
  {
   "cell_type": "markdown",
   "metadata": {},
   "source": [
    "<h2> Analysis for \"flag_fireplace\" </h2>\n",
    "\n",
    "Similar actions with \"flag_tub\".\n",
    "Here the True data are 0.25%. Very small factor. We shouldn't take this data into account but we observe the following. If there is a fireplace (True) then the mean value is bigger and the std is smaller. This means that if there is a fireplace we have a bigger logerror and the small std means that this observation is more concrete. But again the True values are only the 0.25% of whole data so the conclusions may be vague."
   ]
  },
  {
   "cell_type": "code",
   "execution_count": null,
   "metadata": {},
   "outputs": [],
   "source": [
    "# Let's investigate on \"flag_fireplace\". [True, NaN] --> [1, 0]. Warning! Ugly code\n",
    "merged[\"flag_fireplace\"].replace(to_replace=True ,value=1, inplace=True)\n",
    "\n",
    "# We fill the NaN's here because \"flag_fireplace\" has only the value True. So me make it binary.\n",
    "# if it had also the Value False then True and False would form the binary data.\n",
    "merged[\"flag_fireplace\"].fillna(value=0, inplace=True)\n",
    "\n",
    "test_column = merged[['flag_fireplace','logerror']]\n",
    "total_samples = test_column.count().get(\"logerror\")\n",
    "\n",
    "# mean and std for flag_fireplace == 1\n",
    "mean = test_column.where(test_column[\"flag_fireplace\"] > 0).dropna().mean().get(\"logerror\")\n",
    "std = test_column.where(test_column[\"flag_fireplace\"] > 0).dropna().std().get(\"logerror\")\n",
    "samples = test_column.where(test_column[\"flag_fireplace\"] > 0).dropna().count().get(\"logerror\")\n",
    "#for the above there must be a more elegant way but this is not the point here\n",
    "print(\"For flag_fireplace == 'True', the logerror's mean and std are: {0:06.5f} , {1:06.5f}. Total samples ratio {2:04.2f}%\"\\\n",
    "      .format(mean, std, 100.*samples/total_samples))\n",
    "\n",
    "# mean and std for flag_fireplace == 0\n",
    "mean = test_column.where(test_column[\"flag_fireplace\"] < 1).dropna().mean().get(\"logerror\")\n",
    "std = test_column.where(test_column[\"flag_fireplace\"] < 1).dropna().std().get(\"logerror\")\n",
    "samples = test_column.where(test_column[\"flag_fireplace\"] < 1).dropna().count().get(\"logerror\")\n",
    "#for the above there must be a more elegant way but this is not the point here\n",
    "print(\"For flag_fireplace == 'Nan', the logerror's mean and std are: {0:06.5f} , {1:06.5f}. Total samples ratio {2:04.2f}%\"\\\n",
    "      .format(mean, std, 100.*samples/total_samples))\n",
    "# Let's plot it\n",
    "plot_feature_logerror(\"flag_fireplace\")"
   ]
  },
  {
   "cell_type": "markdown",
   "metadata": {},
   "source": [
    "<h2> Analysis for \"tax_delinquency\" </h2>\n",
    "\n",
    "Similar analysis to \"flag_fireplace\".\n",
    "We can observe here that again the value \"Y\" makes logerror more complicated. It increases the mean value and the std which makes the \"guess\" for the correct logerror very difficult. "
   ]
  },
  {
   "cell_type": "code",
   "execution_count": null,
   "metadata": {},
   "outputs": [],
   "source": [
    "# Let's investigate on \"tax_delinquency\". [\"Y\", NaN] --> [1, 0]. Warning! Ugly code\n",
    "merged[\"tax_delinquency\"].replace(to_replace=\"Y\" ,value=1, inplace=True)\n",
    "\n",
    "# We fill the NaN's here because \"tax_delinquency\" has only the value \"Y\". So me make it binary.\n",
    "# if it had also the Value \"N\" then \"Y\" and \"N\" would form the binary data.\n",
    "merged[\"tax_delinquency\"].fillna(value=0, inplace=True)\n",
    "\n",
    "test_column = merged[['tax_delinquency','logerror']]\n",
    "total_samples = test_column.count().get(\"logerror\")\n",
    "\n",
    "# mean and std for tax_delinquency == 1\n",
    "mean = test_column.where(test_column[\"tax_delinquency\"] > 0).dropna().mean().get(\"logerror\")\n",
    "std = test_column.where(test_column[\"tax_delinquency\"] > 0).dropna().std().get(\"logerror\")\n",
    "samples = test_column.where(test_column[\"tax_delinquency\"] > 0).dropna().count().get(\"logerror\")\n",
    "#for the above there must be a more elegant way but this is not the point here\n",
    "print(\"For tax_delinquency == 'Y', the logerror's mean and std are: {0:06.5f} , {1:06.5f}. Total samples ratio {2:04.2f}%\"\\\n",
    "      .format(mean, std, 100.*samples/total_samples))\n",
    "\n",
    "# mean and std for tax_delinquency == 0\n",
    "mean = test_column.where(test_column[\"tax_delinquency\"] < 1).dropna().mean().get(\"logerror\")\n",
    "std = test_column.where(test_column[\"tax_delinquency\"] < 1).dropna().std().get(\"logerror\")\n",
    "samples = test_column.where(test_column[\"tax_delinquency\"] < 1).dropna().count().get(\"logerror\")\n",
    "#for the above there must be a more elegant way but this is not the point here\n",
    "print(\"For tax_delinquency == 'NaN', the logerror's mean and std are: {0:06.5f} , {1:06.5f}. Total samples ratio {2:04.2f}%\"\\\n",
    "      .format(mean, std, 100.*samples/total_samples))\n",
    "# Let's plot it\n",
    "plot_feature_logerror(\"tax_delinquency\")"
   ]
  },
  {
   "cell_type": "markdown",
   "metadata": {},
   "source": [
    "<h2> Analysis for \"zoning_property\" </h2>\n",
    "\n",
    "This feature has a lot of strings (zones) and we want to correspond them with increment integers. The final plot showw that we got legitimate data!!! Enjoy"
   ]
  },
  {
   "cell_type": "code",
   "execution_count": null,
   "metadata": {},
   "outputs": [],
   "source": [
    "# Let's investigate on \"zoning_property\". Warning! Ugly code\n",
    "# we want to correspond every unique string inside \"zoning_property\" to an increment integer.\n",
    "temp_df = merged[[\"zoning_property\", \"logerror\"]] #create a copy of merged\n",
    "temp_df.dropna(inplace=True) #drop all NaN\n",
    "\n",
    "possible_values = temp_df.where(temp_df[\"zoning_property\"].duplicated() == False).dropna()[\"zoning_property\"]\n",
    "# now that we have all possible_values (e.g. 1NR1, AH RM-CD, WVRPD4OOOO,) we want to convert them to integers.\n",
    "# Starting from 1 to length(possible_values). Don't Use 0 because in future we might want to correspond it to NaN\n",
    "# values. TODO\n",
    "\n",
    "merged[\"zoning_property\"].replace(to_replace=possible_values.tolist(),\\\n",
    "value=range(1,possible_values.count()+1), inplace=True)#this works. Very slow execution\n",
    "\"\"\"\n",
    "The following code does the same thing as above. They both run very slowly. keep the best of them.\n",
    "merged[\"zoning_property\"].replace(to_replace=\\\n",
    "{\"zoning_property\": dict(zip(possible_values, range(1,possible_values.count()+1)))}, inplace=True)#this works. Very slow execution\n",
    "\"\"\"\n",
    "\n",
    "# If you want to fill NaN with the value 0 uncomment the following line of code\n",
    "#merged[\"zoning_property\"].fillna(value=0, inplace=True)\n",
    "\n",
    "\n",
    "# Let's see our legitimate data\n",
    "plot_feature_logerror(\"zoning_property\")\n",
    "\n",
    "del temp_df\n",
    "\n"
   ]
  }
 ],
 "metadata": {
  "kernelspec": {
   "display_name": "Python 3",
   "language": "python",
   "name": "python3"
  },
  "language_info": {
   "codemirror_mode": {
    "name": "ipython",
    "version": 3
   },
   "file_extension": ".py",
   "mimetype": "text/x-python",
   "name": "python",
   "nbconvert_exporter": "python",
   "pygments_lexer": "ipython3",
   "version": "3.6.1"
  }
 },
 "nbformat": 4,
 "nbformat_minor": 2
}
